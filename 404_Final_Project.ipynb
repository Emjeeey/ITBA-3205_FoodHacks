{
  "nbformat": 4,
  "nbformat_minor": 0,
  "metadata": {
    "colab": {
      "name": "404 Final Project",
      "provenance": [],
      "collapsed_sections": [],
      "authorship_tag": "ABX9TyP1fsA+5XjFhIntkpePikiJ",
      "include_colab_link": true
    },
    "kernelspec": {
      "name": "python3",
      "display_name": "Python 3"
    },
    "language_info": {
      "name": "python"
    }
  },
  "cells": [
    {
      "cell_type": "markdown",
      "metadata": {
        "id": "view-in-github",
        "colab_type": "text"
      },
      "source": [
        "<a href=\"https://colab.research.google.com/github/Emjeeey/ITBA-3205_HumanTraffickingINDIA/blob/main/404_Final_Project.ipynb\" target=\"_parent\"><img src=\"https://colab.research.google.com/assets/colab-badge.svg\" alt=\"Open In Colab\"/></a>"
      ]
    },
    {
      "cell_type": "code",
      "execution_count": null,
      "metadata": {
        "id": "DpQFNa2MlDBK",
        "colab": {
          "base_uri": "https://localhost:8080/"
        },
        "outputId": "09fe26d1-bb63-48cf-c0c9-1aef285fc982"
      },
      "outputs": [
        {
          "output_type": "stream",
          "name": "stdout",
          "text": [
            "Cloning into 'ITBA-3205_ImpactClimateChange'...\n",
            "remote: Enumerating objects: 302, done.\u001b[K\n",
            "remote: Counting objects: 100% (162/162), done.\u001b[K\n",
            "remote: Compressing objects: 100% (115/115), done.\u001b[K\n",
            "remote: Total 302 (delta 83), reused 88 (delta 46), pack-reused 140\u001b[K\n",
            "Receiving objects: 100% (302/302), 6.77 MiB | 18.53 MiB/s, done.\n",
            "Resolving deltas: 100% (143/143), done.\n"
          ]
        }
      ],
      "source": [
        "!git clone https://github.com/Emjeeey/ITBA-3205_ImpactClimateChange.git\n"
      ]
    },
    {
      "cell_type": "code",
      "source": [
        "!pip install seaborn --upgrade"
      ],
      "metadata": {
        "id": "PuU6eDeJjuJW",
        "colab": {
          "base_uri": "https://localhost:8080/"
        },
        "outputId": "25f9c9f7-9a8b-4619-f39d-cc6b81f2e702"
      },
      "execution_count": null,
      "outputs": [
        {
          "output_type": "stream",
          "name": "stdout",
          "text": [
            "Looking in indexes: https://pypi.org/simple, https://us-python.pkg.dev/colab-wheels/public/simple/\n",
            "Requirement already satisfied: seaborn in /usr/local/lib/python3.7/dist-packages (0.11.2)\n",
            "Requirement already satisfied: pandas>=0.23 in /usr/local/lib/python3.7/dist-packages (from seaborn) (1.3.5)\n",
            "Requirement already satisfied: numpy>=1.15 in /usr/local/lib/python3.7/dist-packages (from seaborn) (1.21.6)\n",
            "Requirement already satisfied: scipy>=1.0 in /usr/local/lib/python3.7/dist-packages (from seaborn) (1.4.1)\n",
            "Requirement already satisfied: matplotlib>=2.2 in /usr/local/lib/python3.7/dist-packages (from seaborn) (3.2.2)\n",
            "Requirement already satisfied: python-dateutil>=2.1 in /usr/local/lib/python3.7/dist-packages (from matplotlib>=2.2->seaborn) (2.8.2)\n",
            "Requirement already satisfied: cycler>=0.10 in /usr/local/lib/python3.7/dist-packages (from matplotlib>=2.2->seaborn) (0.11.0)\n",
            "Requirement already satisfied: pyparsing!=2.0.4,!=2.1.2,!=2.1.6,>=2.0.1 in /usr/local/lib/python3.7/dist-packages (from matplotlib>=2.2->seaborn) (3.0.9)\n",
            "Requirement already satisfied: kiwisolver>=1.0.1 in /usr/local/lib/python3.7/dist-packages (from matplotlib>=2.2->seaborn) (1.4.2)\n",
            "Requirement already satisfied: typing-extensions in /usr/local/lib/python3.7/dist-packages (from kiwisolver>=1.0.1->matplotlib>=2.2->seaborn) (4.2.0)\n",
            "Requirement already satisfied: pytz>=2017.3 in /usr/local/lib/python3.7/dist-packages (from pandas>=0.23->seaborn) (2022.1)\n",
            "Requirement already satisfied: six>=1.5 in /usr/local/lib/python3.7/dist-packages (from python-dateutil>=2.1->matplotlib>=2.2->seaborn) (1.15.0)\n"
          ]
        }
      ]
    },
    {
      "cell_type": "code",
      "source": [
        "pip install matplotlib==3.1.3"
      ],
      "metadata": {
        "id": "KMe_kx_9j2j9"
      },
      "execution_count": null,
      "outputs": []
    },
    {
      "cell_type": "code",
      "source": [
        "import pandas as pd\n",
        "import seaborn as sns\n",
        "import numpy as np\n",
        "import matplotlib.pyplot as plt\n"
      ],
      "metadata": {
        "id": "Dw4nZmStbLG8"
      },
      "execution_count": null,
      "outputs": []
    },
    {
      "cell_type": "code",
      "source": [
        "#understanding the data"
      ],
      "metadata": {
        "id": "bWvGeSuqj5m_"
      },
      "execution_count": null,
      "outputs": []
    },
    {
      "cell_type": "code",
      "source": [
        "data = '/content/ITBA-3205_ImpactClimateChange/Human Trafficking dataset/2019_victims_trafficked.xlsx'\n",
        "VictimsTrafficked2019 = pd.read_excel(data)\n"
      ],
      "metadata": {
        "id": "SgoQI1UbbnyB"
      },
      "execution_count": null,
      "outputs": []
    },
    {
      "cell_type": "code",
      "source": [
        "VictimsTrafficked2019.info()"
      ],
      "metadata": {
        "id": "nH6UbCfUmmX3"
      },
      "execution_count": null,
      "outputs": []
    },
    {
      "cell_type": "code",
      "source": [
        "VictimsTrafficked2019.describe()"
      ],
      "metadata": {
        "id": "OYVqmGlnmyDV"
      },
      "execution_count": null,
      "outputs": []
    },
    {
      "cell_type": "markdown",
      "source": [
        ""
      ],
      "metadata": {
        "id": "RNwFhiDhm8rV"
      }
    },
    {
      "cell_type": "code",
      "source": [
        "VictimsTrafficked2019.head()"
      ],
      "metadata": {
        "id": "mBfmC32hcxlH",
        "colab": {
          "base_uri": "https://localhost:8080/",
          "height": 206
        },
        "outputId": "3fbd6ea3-2a04-468a-a26e-dc8e65a56c70"
      },
      "execution_count": null,
      "outputs": [
        {
          "output_type": "execute_result",
          "data": {
            "text/plain": [
              "             State/UT  Male  Female  Total_victims_trafficked Age Group  \\\n",
              "0     Andhra Pradesh      0      18                        18  Below 18   \n",
              "1  Arunachal Pradesh      1       3                         4  Below 18   \n",
              "2              Assam     24      56                        80  Below 18   \n",
              "3              Bihar    261      33                       294  Below 18   \n",
              "4       Chhattisgarh     52      61                       113  Below 18   \n",
              "\n",
              "  region type  \n",
              "0       state  \n",
              "1       state  \n",
              "2       state  \n",
              "3       state  \n",
              "4       state  "
            ],
            "text/html": [
              "\n",
              "  <div id=\"df-900a65ec-d14f-4132-9394-a147adeed992\">\n",
              "    <div class=\"colab-df-container\">\n",
              "      <div>\n",
              "<style scoped>\n",
              "    .dataframe tbody tr th:only-of-type {\n",
              "        vertical-align: middle;\n",
              "    }\n",
              "\n",
              "    .dataframe tbody tr th {\n",
              "        vertical-align: top;\n",
              "    }\n",
              "\n",
              "    .dataframe thead th {\n",
              "        text-align: right;\n",
              "    }\n",
              "</style>\n",
              "<table border=\"1\" class=\"dataframe\">\n",
              "  <thead>\n",
              "    <tr style=\"text-align: right;\">\n",
              "      <th></th>\n",
              "      <th>State/UT</th>\n",
              "      <th>Male</th>\n",
              "      <th>Female</th>\n",
              "      <th>Total_victims_trafficked</th>\n",
              "      <th>Age Group</th>\n",
              "      <th>region type</th>\n",
              "    </tr>\n",
              "  </thead>\n",
              "  <tbody>\n",
              "    <tr>\n",
              "      <th>0</th>\n",
              "      <td>Andhra Pradesh</td>\n",
              "      <td>0</td>\n",
              "      <td>18</td>\n",
              "      <td>18</td>\n",
              "      <td>Below 18</td>\n",
              "      <td>state</td>\n",
              "    </tr>\n",
              "    <tr>\n",
              "      <th>1</th>\n",
              "      <td>Arunachal Pradesh</td>\n",
              "      <td>1</td>\n",
              "      <td>3</td>\n",
              "      <td>4</td>\n",
              "      <td>Below 18</td>\n",
              "      <td>state</td>\n",
              "    </tr>\n",
              "    <tr>\n",
              "      <th>2</th>\n",
              "      <td>Assam</td>\n",
              "      <td>24</td>\n",
              "      <td>56</td>\n",
              "      <td>80</td>\n",
              "      <td>Below 18</td>\n",
              "      <td>state</td>\n",
              "    </tr>\n",
              "    <tr>\n",
              "      <th>3</th>\n",
              "      <td>Bihar</td>\n",
              "      <td>261</td>\n",
              "      <td>33</td>\n",
              "      <td>294</td>\n",
              "      <td>Below 18</td>\n",
              "      <td>state</td>\n",
              "    </tr>\n",
              "    <tr>\n",
              "      <th>4</th>\n",
              "      <td>Chhattisgarh</td>\n",
              "      <td>52</td>\n",
              "      <td>61</td>\n",
              "      <td>113</td>\n",
              "      <td>Below 18</td>\n",
              "      <td>state</td>\n",
              "    </tr>\n",
              "  </tbody>\n",
              "</table>\n",
              "</div>\n",
              "      <button class=\"colab-df-convert\" onclick=\"convertToInteractive('df-900a65ec-d14f-4132-9394-a147adeed992')\"\n",
              "              title=\"Convert this dataframe to an interactive table.\"\n",
              "              style=\"display:none;\">\n",
              "        \n",
              "  <svg xmlns=\"http://www.w3.org/2000/svg\" height=\"24px\"viewBox=\"0 0 24 24\"\n",
              "       width=\"24px\">\n",
              "    <path d=\"M0 0h24v24H0V0z\" fill=\"none\"/>\n",
              "    <path d=\"M18.56 5.44l.94 2.06.94-2.06 2.06-.94-2.06-.94-.94-2.06-.94 2.06-2.06.94zm-11 1L8.5 8.5l.94-2.06 2.06-.94-2.06-.94L8.5 2.5l-.94 2.06-2.06.94zm10 10l.94 2.06.94-2.06 2.06-.94-2.06-.94-.94-2.06-.94 2.06-2.06.94z\"/><path d=\"M17.41 7.96l-1.37-1.37c-.4-.4-.92-.59-1.43-.59-.52 0-1.04.2-1.43.59L10.3 9.45l-7.72 7.72c-.78.78-.78 2.05 0 2.83L4 21.41c.39.39.9.59 1.41.59.51 0 1.02-.2 1.41-.59l7.78-7.78 2.81-2.81c.8-.78.8-2.07 0-2.86zM5.41 20L4 18.59l7.72-7.72 1.47 1.35L5.41 20z\"/>\n",
              "  </svg>\n",
              "      </button>\n",
              "      \n",
              "  <style>\n",
              "    .colab-df-container {\n",
              "      display:flex;\n",
              "      flex-wrap:wrap;\n",
              "      gap: 12px;\n",
              "    }\n",
              "\n",
              "    .colab-df-convert {\n",
              "      background-color: #E8F0FE;\n",
              "      border: none;\n",
              "      border-radius: 50%;\n",
              "      cursor: pointer;\n",
              "      display: none;\n",
              "      fill: #1967D2;\n",
              "      height: 32px;\n",
              "      padding: 0 0 0 0;\n",
              "      width: 32px;\n",
              "    }\n",
              "\n",
              "    .colab-df-convert:hover {\n",
              "      background-color: #E2EBFA;\n",
              "      box-shadow: 0px 1px 2px rgba(60, 64, 67, 0.3), 0px 1px 3px 1px rgba(60, 64, 67, 0.15);\n",
              "      fill: #174EA6;\n",
              "    }\n",
              "\n",
              "    [theme=dark] .colab-df-convert {\n",
              "      background-color: #3B4455;\n",
              "      fill: #D2E3FC;\n",
              "    }\n",
              "\n",
              "    [theme=dark] .colab-df-convert:hover {\n",
              "      background-color: #434B5C;\n",
              "      box-shadow: 0px 1px 3px 1px rgba(0, 0, 0, 0.15);\n",
              "      filter: drop-shadow(0px 1px 2px rgba(0, 0, 0, 0.3));\n",
              "      fill: #FFFFFF;\n",
              "    }\n",
              "  </style>\n",
              "\n",
              "      <script>\n",
              "        const buttonEl =\n",
              "          document.querySelector('#df-900a65ec-d14f-4132-9394-a147adeed992 button.colab-df-convert');\n",
              "        buttonEl.style.display =\n",
              "          google.colab.kernel.accessAllowed ? 'block' : 'none';\n",
              "\n",
              "        async function convertToInteractive(key) {\n",
              "          const element = document.querySelector('#df-900a65ec-d14f-4132-9394-a147adeed992');\n",
              "          const dataTable =\n",
              "            await google.colab.kernel.invokeFunction('convertToInteractive',\n",
              "                                                     [key], {});\n",
              "          if (!dataTable) return;\n",
              "\n",
              "          const docLinkHtml = 'Like what you see? Visit the ' +\n",
              "            '<a target=\"_blank\" href=https://colab.research.google.com/notebooks/data_table.ipynb>data table notebook</a>'\n",
              "            + ' to learn more about interactive tables.';\n",
              "          element.innerHTML = '';\n",
              "          dataTable['output_type'] = 'display_data';\n",
              "          await google.colab.output.renderOutput(dataTable, element);\n",
              "          const docLink = document.createElement('div');\n",
              "          docLink.innerHTML = docLinkHtml;\n",
              "          element.appendChild(docLink);\n",
              "        }\n",
              "      </script>\n",
              "    </div>\n",
              "  </div>\n",
              "  "
            ]
          },
          "metadata": {},
          "execution_count": 7
        }
      ]
    },
    {
      "cell_type": "code",
      "source": [
        "VictimsTrafficked2019.tail()"
      ],
      "metadata": {
        "id": "4afkKfyvg15B",
        "colab": {
          "base_uri": "https://localhost:8080/",
          "height": 206
        },
        "outputId": "30b1ff97-0bdb-455a-e628-a79801834890"
      },
      "execution_count": null,
      "outputs": [
        {
          "output_type": "execute_result",
          "data": {
            "text/plain": [
              "        State/UT  Male  Female  Total_victims_trafficked Age Group  \\\n",
              "67   D&N Haveli      0       0                         0  Above 18   \n",
              "68  Daman & Diu      0       0                         0  Above 18   \n",
              "69     Delhi UT     42      30                        72  Above 18   \n",
              "70  Lakshadweep      0       0                         0  Above 18   \n",
              "71   Puducherry      0       5                         5  Above 18   \n",
              "\n",
              "        region type  \n",
              "67  union territory  \n",
              "68  union territory  \n",
              "69  union territory  \n",
              "70  union territory  \n",
              "71  union territory  "
            ],
            "text/html": [
              "\n",
              "  <div id=\"df-a15b3ddb-8845-49d9-8267-4d9af7c2855e\">\n",
              "    <div class=\"colab-df-container\">\n",
              "      <div>\n",
              "<style scoped>\n",
              "    .dataframe tbody tr th:only-of-type {\n",
              "        vertical-align: middle;\n",
              "    }\n",
              "\n",
              "    .dataframe tbody tr th {\n",
              "        vertical-align: top;\n",
              "    }\n",
              "\n",
              "    .dataframe thead th {\n",
              "        text-align: right;\n",
              "    }\n",
              "</style>\n",
              "<table border=\"1\" class=\"dataframe\">\n",
              "  <thead>\n",
              "    <tr style=\"text-align: right;\">\n",
              "      <th></th>\n",
              "      <th>State/UT</th>\n",
              "      <th>Male</th>\n",
              "      <th>Female</th>\n",
              "      <th>Total_victims_trafficked</th>\n",
              "      <th>Age Group</th>\n",
              "      <th>region type</th>\n",
              "    </tr>\n",
              "  </thead>\n",
              "  <tbody>\n",
              "    <tr>\n",
              "      <th>67</th>\n",
              "      <td>D&amp;N Haveli</td>\n",
              "      <td>0</td>\n",
              "      <td>0</td>\n",
              "      <td>0</td>\n",
              "      <td>Above 18</td>\n",
              "      <td>union territory</td>\n",
              "    </tr>\n",
              "    <tr>\n",
              "      <th>68</th>\n",
              "      <td>Daman &amp; Diu</td>\n",
              "      <td>0</td>\n",
              "      <td>0</td>\n",
              "      <td>0</td>\n",
              "      <td>Above 18</td>\n",
              "      <td>union territory</td>\n",
              "    </tr>\n",
              "    <tr>\n",
              "      <th>69</th>\n",
              "      <td>Delhi UT</td>\n",
              "      <td>42</td>\n",
              "      <td>30</td>\n",
              "      <td>72</td>\n",
              "      <td>Above 18</td>\n",
              "      <td>union territory</td>\n",
              "    </tr>\n",
              "    <tr>\n",
              "      <th>70</th>\n",
              "      <td>Lakshadweep</td>\n",
              "      <td>0</td>\n",
              "      <td>0</td>\n",
              "      <td>0</td>\n",
              "      <td>Above 18</td>\n",
              "      <td>union territory</td>\n",
              "    </tr>\n",
              "    <tr>\n",
              "      <th>71</th>\n",
              "      <td>Puducherry</td>\n",
              "      <td>0</td>\n",
              "      <td>5</td>\n",
              "      <td>5</td>\n",
              "      <td>Above 18</td>\n",
              "      <td>union territory</td>\n",
              "    </tr>\n",
              "  </tbody>\n",
              "</table>\n",
              "</div>\n",
              "      <button class=\"colab-df-convert\" onclick=\"convertToInteractive('df-a15b3ddb-8845-49d9-8267-4d9af7c2855e')\"\n",
              "              title=\"Convert this dataframe to an interactive table.\"\n",
              "              style=\"display:none;\">\n",
              "        \n",
              "  <svg xmlns=\"http://www.w3.org/2000/svg\" height=\"24px\"viewBox=\"0 0 24 24\"\n",
              "       width=\"24px\">\n",
              "    <path d=\"M0 0h24v24H0V0z\" fill=\"none\"/>\n",
              "    <path d=\"M18.56 5.44l.94 2.06.94-2.06 2.06-.94-2.06-.94-.94-2.06-.94 2.06-2.06.94zm-11 1L8.5 8.5l.94-2.06 2.06-.94-2.06-.94L8.5 2.5l-.94 2.06-2.06.94zm10 10l.94 2.06.94-2.06 2.06-.94-2.06-.94-.94-2.06-.94 2.06-2.06.94z\"/><path d=\"M17.41 7.96l-1.37-1.37c-.4-.4-.92-.59-1.43-.59-.52 0-1.04.2-1.43.59L10.3 9.45l-7.72 7.72c-.78.78-.78 2.05 0 2.83L4 21.41c.39.39.9.59 1.41.59.51 0 1.02-.2 1.41-.59l7.78-7.78 2.81-2.81c.8-.78.8-2.07 0-2.86zM5.41 20L4 18.59l7.72-7.72 1.47 1.35L5.41 20z\"/>\n",
              "  </svg>\n",
              "      </button>\n",
              "      \n",
              "  <style>\n",
              "    .colab-df-container {\n",
              "      display:flex;\n",
              "      flex-wrap:wrap;\n",
              "      gap: 12px;\n",
              "    }\n",
              "\n",
              "    .colab-df-convert {\n",
              "      background-color: #E8F0FE;\n",
              "      border: none;\n",
              "      border-radius: 50%;\n",
              "      cursor: pointer;\n",
              "      display: none;\n",
              "      fill: #1967D2;\n",
              "      height: 32px;\n",
              "      padding: 0 0 0 0;\n",
              "      width: 32px;\n",
              "    }\n",
              "\n",
              "    .colab-df-convert:hover {\n",
              "      background-color: #E2EBFA;\n",
              "      box-shadow: 0px 1px 2px rgba(60, 64, 67, 0.3), 0px 1px 3px 1px rgba(60, 64, 67, 0.15);\n",
              "      fill: #174EA6;\n",
              "    }\n",
              "\n",
              "    [theme=dark] .colab-df-convert {\n",
              "      background-color: #3B4455;\n",
              "      fill: #D2E3FC;\n",
              "    }\n",
              "\n",
              "    [theme=dark] .colab-df-convert:hover {\n",
              "      background-color: #434B5C;\n",
              "      box-shadow: 0px 1px 3px 1px rgba(0, 0, 0, 0.15);\n",
              "      filter: drop-shadow(0px 1px 2px rgba(0, 0, 0, 0.3));\n",
              "      fill: #FFFFFF;\n",
              "    }\n",
              "  </style>\n",
              "\n",
              "      <script>\n",
              "        const buttonEl =\n",
              "          document.querySelector('#df-a15b3ddb-8845-49d9-8267-4d9af7c2855e button.colab-df-convert');\n",
              "        buttonEl.style.display =\n",
              "          google.colab.kernel.accessAllowed ? 'block' : 'none';\n",
              "\n",
              "        async function convertToInteractive(key) {\n",
              "          const element = document.querySelector('#df-a15b3ddb-8845-49d9-8267-4d9af7c2855e');\n",
              "          const dataTable =\n",
              "            await google.colab.kernel.invokeFunction('convertToInteractive',\n",
              "                                                     [key], {});\n",
              "          if (!dataTable) return;\n",
              "\n",
              "          const docLinkHtml = 'Like what you see? Visit the ' +\n",
              "            '<a target=\"_blank\" href=https://colab.research.google.com/notebooks/data_table.ipynb>data table notebook</a>'\n",
              "            + ' to learn more about interactive tables.';\n",
              "          element.innerHTML = '';\n",
              "          dataTable['output_type'] = 'display_data';\n",
              "          await google.colab.output.renderOutput(dataTable, element);\n",
              "          const docLink = document.createElement('div');\n",
              "          docLink.innerHTML = docLinkHtml;\n",
              "          element.appendChild(docLink);\n",
              "        }\n",
              "      </script>\n",
              "    </div>\n",
              "  </div>\n",
              "  "
            ]
          },
          "metadata": {},
          "execution_count": 101
        }
      ]
    },
    {
      "cell_type": "code",
      "source": [
        "VictimsTrafficked2019.shape"
      ],
      "metadata": {
        "id": "LkicG_Fzh35C"
      },
      "execution_count": null,
      "outputs": []
    },
    {
      "cell_type": "code",
      "source": [
        "VictimsTrafficked2019.columns"
      ],
      "metadata": {
        "id": "vOd5q-Dficzw"
      },
      "execution_count": null,
      "outputs": []
    },
    {
      "cell_type": "code",
      "source": [
        "VictimsTrafficked2019.nunique()"
      ],
      "metadata": {
        "id": "bSLFqrgcjKJ4"
      },
      "execution_count": null,
      "outputs": []
    },
    {
      "cell_type": "code",
      "source": [
        "VictimsTrafficked2019.isnull().sum()"
      ],
      "metadata": {
        "id": "N80EmaXskOfz",
        "colab": {
          "base_uri": "https://localhost:8080/"
        },
        "outputId": "20948f3d-cdf0-44c9-98a3-2ca529ede52c"
      },
      "execution_count": null,
      "outputs": [
        {
          "output_type": "execute_result",
          "data": {
            "text/plain": [
              "State/UT                    0\n",
              "Male                        0\n",
              "Female                      0\n",
              "Total_victims_trafficked    0\n",
              "Age Group                   0\n",
              "region type                 0\n",
              "dtype: int64"
            ]
          },
          "metadata": {},
          "execution_count": 36
        }
      ]
    },
    {
      "cell_type": "code",
      "source": [
        "#cleaning the data"
      ],
      "metadata": {
        "id": "b0PJtqhRkLpE"
      },
      "execution_count": null,
      "outputs": []
    },
    {
      "cell_type": "code",
      "source": [
        "#assigning filters  for 0 values"
      ],
      "metadata": {
        "id": "bFW-OgzawHaw"
      },
      "execution_count": null,
      "outputs": []
    },
    {
      "cell_type": "code",
      "source": [
        "df= pd.DataFrame(VictimsTrafficked2019)"
      ],
      "metadata": {
        "id": "F3e5GrUemSLU"
      },
      "execution_count": null,
      "outputs": []
    },
    {
      "cell_type": "code",
      "source": [
        "filt1 = (df['Male'] == 0 ) & (df['Female'] == 0 ) & (df['Total_victims_trafficked'] == 0 )"
      ],
      "metadata": {
        "id": "XGqeSbQRr5Is"
      },
      "execution_count": null,
      "outputs": []
    },
    {
      "cell_type": "code",
      "source": [
        "df.loc[filt1]"
      ],
      "metadata": {
        "id": "Qsx23IYIvZK4"
      },
      "execution_count": null,
      "outputs": []
    },
    {
      "cell_type": "code",
      "source": [
        "df.drop((df.index[df['Male'] == 0]) & (df.index[df['Female'] == 0]) & (df.index[df['Total_victims_trafficked'] == 0])  , inplace=True)"
      ],
      "metadata": {
        "colab": {
          "base_uri": "https://localhost:8080/"
        },
        "id": "B5K5n3220KJT",
        "outputId": "ceafd657-8da4-418d-a204-d25431080d8e"
      },
      "execution_count": null,
      "outputs": [
        {
          "output_type": "stream",
          "name": "stderr",
          "text": [
            "/usr/local/lib/python3.7/dist-packages/ipykernel_launcher.py:1: FutureWarning: Index.__and__ operating as a set operation is deprecated, in the future this will be a logical operation matching Series.__and__.  Use index.intersection(other) instead\n",
            "  \"\"\"Entry point for launching an IPython kernel.\n"
          ]
        }
      ]
    },
    {
      "cell_type": "code",
      "source": [
        "CleanVT = df.drop(['region type' ], axis=1)"
      ],
      "metadata": {
        "id": "ugsliuYpk4cp"
      },
      "execution_count": null,
      "outputs": []
    },
    {
      "cell_type": "code",
      "source": [
        "CleanVT.info()"
      ],
      "metadata": {
        "id": "y-Hj7W4Knzso"
      },
      "execution_count": null,
      "outputs": []
    },
    {
      "cell_type": "code",
      "source": [
        "CleanVT.describe()"
      ],
      "metadata": {
        "id": "lGXMNLkZoDkO"
      },
      "execution_count": null,
      "outputs": []
    },
    {
      "cell_type": "code",
      "source": [
        "CleanVT.mean()"
      ],
      "metadata": {
        "id": "534FAJTpOLnj"
      },
      "execution_count": null,
      "outputs": []
    },
    {
      "cell_type": "code",
      "source": [
        "CleanVT"
      ],
      "metadata": {
        "colab": {
          "base_uri": "https://localhost:8080/",
          "height": 1000
        },
        "id": "ak_ukiJub-5G",
        "outputId": "a49e2781-f428-40ed-cc8a-44a36e4c8bf7"
      },
      "execution_count": 71,
      "outputs": [
        {
          "output_type": "execute_result",
          "data": {
            "text/plain": [
              "              State/UT  Male  Female  Total_victims_trafficked Age Group\n",
              "0      Andhra Pradesh      0      18                        18  Below 18\n",
              "1   Arunachal Pradesh      1       3                         4  Below 18\n",
              "2               Assam     24      56                        80  Below 18\n",
              "3               Bihar    261      33                       294  Below 18\n",
              "4        Chhattisgarh     52      61                       113  Below 18\n",
              "5                 Goa      0       2                         2  Below 18\n",
              "6             Gujarat      0       2                         2  Below 18\n",
              "7             Haryana      3       3                         6  Below 18\n",
              "8    Himachal Pradesh      0       1                         1  Below 18\n",
              "10          Jharkhand     34     138                       172  Below 18\n",
              "11          Karnataka     12      30                        42  Below 18\n",
              "12             Kerala     22     155                       177  Below 18\n",
              "13     Madhya Pradesh     47      76                       123  Below 18\n",
              "14        Maharashtra     34      61                        95  Below 18\n",
              "15            Manipur      2       3                         5  Below 18\n",
              "16          Meghalaya      0      30                        30  Below 18\n",
              "17            Mizoram      3      22                        25  Below 18\n",
              "18           Nagaland      0       2                         2  Below 18\n",
              "19             Odisha     94     108                       202  Below 18\n",
              "20             Punjab      1       8                         9  Below 18\n",
              "21          Rajasthan    636      17                       653  Below 18\n",
              "23         Tamil Nadu     21      22                        43  Below 18\n",
              "24          Telangana      1      70                        71  Below 18\n",
              "25            Tripura      0       1                         1  Below 18\n",
              "26      Uttar Pradesh     16      16                        32  Below 18\n",
              "27        Uttarakhand      5      11                        16  Below 18\n",
              "28        West Bengal     11     148                       159  Below 18\n",
              "30         Chandigarh      0       1                         1  Below 18\n",
              "33           Delhi UT    462      74                       536  Below 18\n",
              "36     Andhra Pradesh      1     380                       381  Above 18\n",
              "38              Assam     36     132                       168  Above 18\n",
              "39              Bihar      0      22                        22  Above 18\n",
              "40       Chhattisgarh    131      94                       225  Above 18\n",
              "41                Goa      0      88                        88  Above 18\n",
              "42            Gujarat      0      20                        20  Above 18\n",
              "43            Haryana      0      14                        14  Above 18\n",
              "44   Himachal Pradesh      2      14                        16  Above 18\n",
              "46          Jharkhand     19      48                        67  Above 18\n",
              "47          Karnataka     32     112                       144  Above 18\n",
              "48             Kerala     14      27                        41  Above 18\n",
              "49     Madhya Pradesh      0      92                        92  Above 18\n",
              "50        Maharashtra     16     875                       891  Above 18\n",
              "51            Manipur     33     151                       184  Above 18\n",
              "52          Meghalaya      0       1                         1  Above 18\n",
              "53            Mizoram      2      27                        29  Above 18\n",
              "54           Nagaland      0      18                        18  Above 18\n",
              "55             Odisha    424     250                       674  Above 18\n",
              "56             Punjab      2       8                        10  Above 18\n",
              "57          Rajasthan      5       6                        11  Above 18\n",
              "58             Sikkim      0       2                         2  Above 18\n",
              "59         Tamil Nadu     18      16                        34  Above 18\n",
              "60          Telangana      0     263                       263  Above 18\n",
              "61            Tripura      0       1                         1  Above 18\n",
              "62      Uttar Pradesh     11      94                       105  Above 18\n",
              "63        Uttarakhand      0      20                        20  Above 18\n",
              "64        West Bengal      7      96                       103  Above 18\n",
              "66         Chandigarh      0       1                         1  Above 18\n",
              "69           Delhi UT     42      30                        72  Above 18\n",
              "71         Puducherry      0       5                         5  Above 18"
            ],
            "text/html": [
              "\n",
              "  <div id=\"df-c029b067-2c25-434f-aaf2-526585799e49\">\n",
              "    <div class=\"colab-df-container\">\n",
              "      <div>\n",
              "<style scoped>\n",
              "    .dataframe tbody tr th:only-of-type {\n",
              "        vertical-align: middle;\n",
              "    }\n",
              "\n",
              "    .dataframe tbody tr th {\n",
              "        vertical-align: top;\n",
              "    }\n",
              "\n",
              "    .dataframe thead th {\n",
              "        text-align: right;\n",
              "    }\n",
              "</style>\n",
              "<table border=\"1\" class=\"dataframe\">\n",
              "  <thead>\n",
              "    <tr style=\"text-align: right;\">\n",
              "      <th></th>\n",
              "      <th>State/UT</th>\n",
              "      <th>Male</th>\n",
              "      <th>Female</th>\n",
              "      <th>Total_victims_trafficked</th>\n",
              "      <th>Age Group</th>\n",
              "    </tr>\n",
              "  </thead>\n",
              "  <tbody>\n",
              "    <tr>\n",
              "      <th>0</th>\n",
              "      <td>Andhra Pradesh</td>\n",
              "      <td>0</td>\n",
              "      <td>18</td>\n",
              "      <td>18</td>\n",
              "      <td>Below 18</td>\n",
              "    </tr>\n",
              "    <tr>\n",
              "      <th>1</th>\n",
              "      <td>Arunachal Pradesh</td>\n",
              "      <td>1</td>\n",
              "      <td>3</td>\n",
              "      <td>4</td>\n",
              "      <td>Below 18</td>\n",
              "    </tr>\n",
              "    <tr>\n",
              "      <th>2</th>\n",
              "      <td>Assam</td>\n",
              "      <td>24</td>\n",
              "      <td>56</td>\n",
              "      <td>80</td>\n",
              "      <td>Below 18</td>\n",
              "    </tr>\n",
              "    <tr>\n",
              "      <th>3</th>\n",
              "      <td>Bihar</td>\n",
              "      <td>261</td>\n",
              "      <td>33</td>\n",
              "      <td>294</td>\n",
              "      <td>Below 18</td>\n",
              "    </tr>\n",
              "    <tr>\n",
              "      <th>4</th>\n",
              "      <td>Chhattisgarh</td>\n",
              "      <td>52</td>\n",
              "      <td>61</td>\n",
              "      <td>113</td>\n",
              "      <td>Below 18</td>\n",
              "    </tr>\n",
              "    <tr>\n",
              "      <th>5</th>\n",
              "      <td>Goa</td>\n",
              "      <td>0</td>\n",
              "      <td>2</td>\n",
              "      <td>2</td>\n",
              "      <td>Below 18</td>\n",
              "    </tr>\n",
              "    <tr>\n",
              "      <th>6</th>\n",
              "      <td>Gujarat</td>\n",
              "      <td>0</td>\n",
              "      <td>2</td>\n",
              "      <td>2</td>\n",
              "      <td>Below 18</td>\n",
              "    </tr>\n",
              "    <tr>\n",
              "      <th>7</th>\n",
              "      <td>Haryana</td>\n",
              "      <td>3</td>\n",
              "      <td>3</td>\n",
              "      <td>6</td>\n",
              "      <td>Below 18</td>\n",
              "    </tr>\n",
              "    <tr>\n",
              "      <th>8</th>\n",
              "      <td>Himachal Pradesh</td>\n",
              "      <td>0</td>\n",
              "      <td>1</td>\n",
              "      <td>1</td>\n",
              "      <td>Below 18</td>\n",
              "    </tr>\n",
              "    <tr>\n",
              "      <th>10</th>\n",
              "      <td>Jharkhand</td>\n",
              "      <td>34</td>\n",
              "      <td>138</td>\n",
              "      <td>172</td>\n",
              "      <td>Below 18</td>\n",
              "    </tr>\n",
              "    <tr>\n",
              "      <th>11</th>\n",
              "      <td>Karnataka</td>\n",
              "      <td>12</td>\n",
              "      <td>30</td>\n",
              "      <td>42</td>\n",
              "      <td>Below 18</td>\n",
              "    </tr>\n",
              "    <tr>\n",
              "      <th>12</th>\n",
              "      <td>Kerala</td>\n",
              "      <td>22</td>\n",
              "      <td>155</td>\n",
              "      <td>177</td>\n",
              "      <td>Below 18</td>\n",
              "    </tr>\n",
              "    <tr>\n",
              "      <th>13</th>\n",
              "      <td>Madhya Pradesh</td>\n",
              "      <td>47</td>\n",
              "      <td>76</td>\n",
              "      <td>123</td>\n",
              "      <td>Below 18</td>\n",
              "    </tr>\n",
              "    <tr>\n",
              "      <th>14</th>\n",
              "      <td>Maharashtra</td>\n",
              "      <td>34</td>\n",
              "      <td>61</td>\n",
              "      <td>95</td>\n",
              "      <td>Below 18</td>\n",
              "    </tr>\n",
              "    <tr>\n",
              "      <th>15</th>\n",
              "      <td>Manipur</td>\n",
              "      <td>2</td>\n",
              "      <td>3</td>\n",
              "      <td>5</td>\n",
              "      <td>Below 18</td>\n",
              "    </tr>\n",
              "    <tr>\n",
              "      <th>16</th>\n",
              "      <td>Meghalaya</td>\n",
              "      <td>0</td>\n",
              "      <td>30</td>\n",
              "      <td>30</td>\n",
              "      <td>Below 18</td>\n",
              "    </tr>\n",
              "    <tr>\n",
              "      <th>17</th>\n",
              "      <td>Mizoram</td>\n",
              "      <td>3</td>\n",
              "      <td>22</td>\n",
              "      <td>25</td>\n",
              "      <td>Below 18</td>\n",
              "    </tr>\n",
              "    <tr>\n",
              "      <th>18</th>\n",
              "      <td>Nagaland</td>\n",
              "      <td>0</td>\n",
              "      <td>2</td>\n",
              "      <td>2</td>\n",
              "      <td>Below 18</td>\n",
              "    </tr>\n",
              "    <tr>\n",
              "      <th>19</th>\n",
              "      <td>Odisha</td>\n",
              "      <td>94</td>\n",
              "      <td>108</td>\n",
              "      <td>202</td>\n",
              "      <td>Below 18</td>\n",
              "    </tr>\n",
              "    <tr>\n",
              "      <th>20</th>\n",
              "      <td>Punjab</td>\n",
              "      <td>1</td>\n",
              "      <td>8</td>\n",
              "      <td>9</td>\n",
              "      <td>Below 18</td>\n",
              "    </tr>\n",
              "    <tr>\n",
              "      <th>21</th>\n",
              "      <td>Rajasthan</td>\n",
              "      <td>636</td>\n",
              "      <td>17</td>\n",
              "      <td>653</td>\n",
              "      <td>Below 18</td>\n",
              "    </tr>\n",
              "    <tr>\n",
              "      <th>23</th>\n",
              "      <td>Tamil Nadu</td>\n",
              "      <td>21</td>\n",
              "      <td>22</td>\n",
              "      <td>43</td>\n",
              "      <td>Below 18</td>\n",
              "    </tr>\n",
              "    <tr>\n",
              "      <th>24</th>\n",
              "      <td>Telangana</td>\n",
              "      <td>1</td>\n",
              "      <td>70</td>\n",
              "      <td>71</td>\n",
              "      <td>Below 18</td>\n",
              "    </tr>\n",
              "    <tr>\n",
              "      <th>25</th>\n",
              "      <td>Tripura</td>\n",
              "      <td>0</td>\n",
              "      <td>1</td>\n",
              "      <td>1</td>\n",
              "      <td>Below 18</td>\n",
              "    </tr>\n",
              "    <tr>\n",
              "      <th>26</th>\n",
              "      <td>Uttar Pradesh</td>\n",
              "      <td>16</td>\n",
              "      <td>16</td>\n",
              "      <td>32</td>\n",
              "      <td>Below 18</td>\n",
              "    </tr>\n",
              "    <tr>\n",
              "      <th>27</th>\n",
              "      <td>Uttarakhand</td>\n",
              "      <td>5</td>\n",
              "      <td>11</td>\n",
              "      <td>16</td>\n",
              "      <td>Below 18</td>\n",
              "    </tr>\n",
              "    <tr>\n",
              "      <th>28</th>\n",
              "      <td>West Bengal</td>\n",
              "      <td>11</td>\n",
              "      <td>148</td>\n",
              "      <td>159</td>\n",
              "      <td>Below 18</td>\n",
              "    </tr>\n",
              "    <tr>\n",
              "      <th>30</th>\n",
              "      <td>Chandigarh</td>\n",
              "      <td>0</td>\n",
              "      <td>1</td>\n",
              "      <td>1</td>\n",
              "      <td>Below 18</td>\n",
              "    </tr>\n",
              "    <tr>\n",
              "      <th>33</th>\n",
              "      <td>Delhi UT</td>\n",
              "      <td>462</td>\n",
              "      <td>74</td>\n",
              "      <td>536</td>\n",
              "      <td>Below 18</td>\n",
              "    </tr>\n",
              "    <tr>\n",
              "      <th>36</th>\n",
              "      <td>Andhra Pradesh</td>\n",
              "      <td>1</td>\n",
              "      <td>380</td>\n",
              "      <td>381</td>\n",
              "      <td>Above 18</td>\n",
              "    </tr>\n",
              "    <tr>\n",
              "      <th>38</th>\n",
              "      <td>Assam</td>\n",
              "      <td>36</td>\n",
              "      <td>132</td>\n",
              "      <td>168</td>\n",
              "      <td>Above 18</td>\n",
              "    </tr>\n",
              "    <tr>\n",
              "      <th>39</th>\n",
              "      <td>Bihar</td>\n",
              "      <td>0</td>\n",
              "      <td>22</td>\n",
              "      <td>22</td>\n",
              "      <td>Above 18</td>\n",
              "    </tr>\n",
              "    <tr>\n",
              "      <th>40</th>\n",
              "      <td>Chhattisgarh</td>\n",
              "      <td>131</td>\n",
              "      <td>94</td>\n",
              "      <td>225</td>\n",
              "      <td>Above 18</td>\n",
              "    </tr>\n",
              "    <tr>\n",
              "      <th>41</th>\n",
              "      <td>Goa</td>\n",
              "      <td>0</td>\n",
              "      <td>88</td>\n",
              "      <td>88</td>\n",
              "      <td>Above 18</td>\n",
              "    </tr>\n",
              "    <tr>\n",
              "      <th>42</th>\n",
              "      <td>Gujarat</td>\n",
              "      <td>0</td>\n",
              "      <td>20</td>\n",
              "      <td>20</td>\n",
              "      <td>Above 18</td>\n",
              "    </tr>\n",
              "    <tr>\n",
              "      <th>43</th>\n",
              "      <td>Haryana</td>\n",
              "      <td>0</td>\n",
              "      <td>14</td>\n",
              "      <td>14</td>\n",
              "      <td>Above 18</td>\n",
              "    </tr>\n",
              "    <tr>\n",
              "      <th>44</th>\n",
              "      <td>Himachal Pradesh</td>\n",
              "      <td>2</td>\n",
              "      <td>14</td>\n",
              "      <td>16</td>\n",
              "      <td>Above 18</td>\n",
              "    </tr>\n",
              "    <tr>\n",
              "      <th>46</th>\n",
              "      <td>Jharkhand</td>\n",
              "      <td>19</td>\n",
              "      <td>48</td>\n",
              "      <td>67</td>\n",
              "      <td>Above 18</td>\n",
              "    </tr>\n",
              "    <tr>\n",
              "      <th>47</th>\n",
              "      <td>Karnataka</td>\n",
              "      <td>32</td>\n",
              "      <td>112</td>\n",
              "      <td>144</td>\n",
              "      <td>Above 18</td>\n",
              "    </tr>\n",
              "    <tr>\n",
              "      <th>48</th>\n",
              "      <td>Kerala</td>\n",
              "      <td>14</td>\n",
              "      <td>27</td>\n",
              "      <td>41</td>\n",
              "      <td>Above 18</td>\n",
              "    </tr>\n",
              "    <tr>\n",
              "      <th>49</th>\n",
              "      <td>Madhya Pradesh</td>\n",
              "      <td>0</td>\n",
              "      <td>92</td>\n",
              "      <td>92</td>\n",
              "      <td>Above 18</td>\n",
              "    </tr>\n",
              "    <tr>\n",
              "      <th>50</th>\n",
              "      <td>Maharashtra</td>\n",
              "      <td>16</td>\n",
              "      <td>875</td>\n",
              "      <td>891</td>\n",
              "      <td>Above 18</td>\n",
              "    </tr>\n",
              "    <tr>\n",
              "      <th>51</th>\n",
              "      <td>Manipur</td>\n",
              "      <td>33</td>\n",
              "      <td>151</td>\n",
              "      <td>184</td>\n",
              "      <td>Above 18</td>\n",
              "    </tr>\n",
              "    <tr>\n",
              "      <th>52</th>\n",
              "      <td>Meghalaya</td>\n",
              "      <td>0</td>\n",
              "      <td>1</td>\n",
              "      <td>1</td>\n",
              "      <td>Above 18</td>\n",
              "    </tr>\n",
              "    <tr>\n",
              "      <th>53</th>\n",
              "      <td>Mizoram</td>\n",
              "      <td>2</td>\n",
              "      <td>27</td>\n",
              "      <td>29</td>\n",
              "      <td>Above 18</td>\n",
              "    </tr>\n",
              "    <tr>\n",
              "      <th>54</th>\n",
              "      <td>Nagaland</td>\n",
              "      <td>0</td>\n",
              "      <td>18</td>\n",
              "      <td>18</td>\n",
              "      <td>Above 18</td>\n",
              "    </tr>\n",
              "    <tr>\n",
              "      <th>55</th>\n",
              "      <td>Odisha</td>\n",
              "      <td>424</td>\n",
              "      <td>250</td>\n",
              "      <td>674</td>\n",
              "      <td>Above 18</td>\n",
              "    </tr>\n",
              "    <tr>\n",
              "      <th>56</th>\n",
              "      <td>Punjab</td>\n",
              "      <td>2</td>\n",
              "      <td>8</td>\n",
              "      <td>10</td>\n",
              "      <td>Above 18</td>\n",
              "    </tr>\n",
              "    <tr>\n",
              "      <th>57</th>\n",
              "      <td>Rajasthan</td>\n",
              "      <td>5</td>\n",
              "      <td>6</td>\n",
              "      <td>11</td>\n",
              "      <td>Above 18</td>\n",
              "    </tr>\n",
              "    <tr>\n",
              "      <th>58</th>\n",
              "      <td>Sikkim</td>\n",
              "      <td>0</td>\n",
              "      <td>2</td>\n",
              "      <td>2</td>\n",
              "      <td>Above 18</td>\n",
              "    </tr>\n",
              "    <tr>\n",
              "      <th>59</th>\n",
              "      <td>Tamil Nadu</td>\n",
              "      <td>18</td>\n",
              "      <td>16</td>\n",
              "      <td>34</td>\n",
              "      <td>Above 18</td>\n",
              "    </tr>\n",
              "    <tr>\n",
              "      <th>60</th>\n",
              "      <td>Telangana</td>\n",
              "      <td>0</td>\n",
              "      <td>263</td>\n",
              "      <td>263</td>\n",
              "      <td>Above 18</td>\n",
              "    </tr>\n",
              "    <tr>\n",
              "      <th>61</th>\n",
              "      <td>Tripura</td>\n",
              "      <td>0</td>\n",
              "      <td>1</td>\n",
              "      <td>1</td>\n",
              "      <td>Above 18</td>\n",
              "    </tr>\n",
              "    <tr>\n",
              "      <th>62</th>\n",
              "      <td>Uttar Pradesh</td>\n",
              "      <td>11</td>\n",
              "      <td>94</td>\n",
              "      <td>105</td>\n",
              "      <td>Above 18</td>\n",
              "    </tr>\n",
              "    <tr>\n",
              "      <th>63</th>\n",
              "      <td>Uttarakhand</td>\n",
              "      <td>0</td>\n",
              "      <td>20</td>\n",
              "      <td>20</td>\n",
              "      <td>Above 18</td>\n",
              "    </tr>\n",
              "    <tr>\n",
              "      <th>64</th>\n",
              "      <td>West Bengal</td>\n",
              "      <td>7</td>\n",
              "      <td>96</td>\n",
              "      <td>103</td>\n",
              "      <td>Above 18</td>\n",
              "    </tr>\n",
              "    <tr>\n",
              "      <th>66</th>\n",
              "      <td>Chandigarh</td>\n",
              "      <td>0</td>\n",
              "      <td>1</td>\n",
              "      <td>1</td>\n",
              "      <td>Above 18</td>\n",
              "    </tr>\n",
              "    <tr>\n",
              "      <th>69</th>\n",
              "      <td>Delhi UT</td>\n",
              "      <td>42</td>\n",
              "      <td>30</td>\n",
              "      <td>72</td>\n",
              "      <td>Above 18</td>\n",
              "    </tr>\n",
              "    <tr>\n",
              "      <th>71</th>\n",
              "      <td>Puducherry</td>\n",
              "      <td>0</td>\n",
              "      <td>5</td>\n",
              "      <td>5</td>\n",
              "      <td>Above 18</td>\n",
              "    </tr>\n",
              "  </tbody>\n",
              "</table>\n",
              "</div>\n",
              "      <button class=\"colab-df-convert\" onclick=\"convertToInteractive('df-c029b067-2c25-434f-aaf2-526585799e49')\"\n",
              "              title=\"Convert this dataframe to an interactive table.\"\n",
              "              style=\"display:none;\">\n",
              "        \n",
              "  <svg xmlns=\"http://www.w3.org/2000/svg\" height=\"24px\"viewBox=\"0 0 24 24\"\n",
              "       width=\"24px\">\n",
              "    <path d=\"M0 0h24v24H0V0z\" fill=\"none\"/>\n",
              "    <path d=\"M18.56 5.44l.94 2.06.94-2.06 2.06-.94-2.06-.94-.94-2.06-.94 2.06-2.06.94zm-11 1L8.5 8.5l.94-2.06 2.06-.94-2.06-.94L8.5 2.5l-.94 2.06-2.06.94zm10 10l.94 2.06.94-2.06 2.06-.94-2.06-.94-.94-2.06-.94 2.06-2.06.94z\"/><path d=\"M17.41 7.96l-1.37-1.37c-.4-.4-.92-.59-1.43-.59-.52 0-1.04.2-1.43.59L10.3 9.45l-7.72 7.72c-.78.78-.78 2.05 0 2.83L4 21.41c.39.39.9.59 1.41.59.51 0 1.02-.2 1.41-.59l7.78-7.78 2.81-2.81c.8-.78.8-2.07 0-2.86zM5.41 20L4 18.59l7.72-7.72 1.47 1.35L5.41 20z\"/>\n",
              "  </svg>\n",
              "      </button>\n",
              "      \n",
              "  <style>\n",
              "    .colab-df-container {\n",
              "      display:flex;\n",
              "      flex-wrap:wrap;\n",
              "      gap: 12px;\n",
              "    }\n",
              "\n",
              "    .colab-df-convert {\n",
              "      background-color: #E8F0FE;\n",
              "      border: none;\n",
              "      border-radius: 50%;\n",
              "      cursor: pointer;\n",
              "      display: none;\n",
              "      fill: #1967D2;\n",
              "      height: 32px;\n",
              "      padding: 0 0 0 0;\n",
              "      width: 32px;\n",
              "    }\n",
              "\n",
              "    .colab-df-convert:hover {\n",
              "      background-color: #E2EBFA;\n",
              "      box-shadow: 0px 1px 2px rgba(60, 64, 67, 0.3), 0px 1px 3px 1px rgba(60, 64, 67, 0.15);\n",
              "      fill: #174EA6;\n",
              "    }\n",
              "\n",
              "    [theme=dark] .colab-df-convert {\n",
              "      background-color: #3B4455;\n",
              "      fill: #D2E3FC;\n",
              "    }\n",
              "\n",
              "    [theme=dark] .colab-df-convert:hover {\n",
              "      background-color: #434B5C;\n",
              "      box-shadow: 0px 1px 3px 1px rgba(0, 0, 0, 0.15);\n",
              "      filter: drop-shadow(0px 1px 2px rgba(0, 0, 0, 0.3));\n",
              "      fill: #FFFFFF;\n",
              "    }\n",
              "  </style>\n",
              "\n",
              "      <script>\n",
              "        const buttonEl =\n",
              "          document.querySelector('#df-c029b067-2c25-434f-aaf2-526585799e49 button.colab-df-convert');\n",
              "        buttonEl.style.display =\n",
              "          google.colab.kernel.accessAllowed ? 'block' : 'none';\n",
              "\n",
              "        async function convertToInteractive(key) {\n",
              "          const element = document.querySelector('#df-c029b067-2c25-434f-aaf2-526585799e49');\n",
              "          const dataTable =\n",
              "            await google.colab.kernel.invokeFunction('convertToInteractive',\n",
              "                                                     [key], {});\n",
              "          if (!dataTable) return;\n",
              "\n",
              "          const docLinkHtml = 'Like what you see? Visit the ' +\n",
              "            '<a target=\"_blank\" href=https://colab.research.google.com/notebooks/data_table.ipynb>data table notebook</a>'\n",
              "            + ' to learn more about interactive tables.';\n",
              "          element.innerHTML = '';\n",
              "          dataTable['output_type'] = 'display_data';\n",
              "          await google.colab.output.renderOutput(dataTable, element);\n",
              "          const docLink = document.createElement('div');\n",
              "          docLink.innerHTML = docLinkHtml;\n",
              "          element.appendChild(docLink);\n",
              "        }\n",
              "      </script>\n",
              "    </div>\n",
              "  </div>\n",
              "  "
            ]
          },
          "metadata": {},
          "execution_count": 71
        }
      ]
    },
    {
      "cell_type": "code",
      "source": [
        "#CleanVT is variable for the cleaned data for victims in 2019"
      ],
      "metadata": {
        "id": "Sr1iXjlc2k-S"
      },
      "execution_count": null,
      "outputs": []
    },
    {
      "cell_type": "code",
      "source": [
        "sns.set_style(style=\"darkgrid\")"
      ],
      "metadata": {
        "id": "1CBJONaN7HuJ"
      },
      "execution_count": null,
      "outputs": []
    },
    {
      "cell_type": "code",
      "source": [
        "sns.relplot(x=\"Male\", y=\"Female\", hue=\"Age Group\", data=CleanVT)"
      ],
      "metadata": {
        "colab": {
          "base_uri": "https://localhost:8080/",
          "height": 386
        },
        "id": "ITjXwVISDHIS",
        "outputId": "5b75e5e7-e685-4e97-d8b1-25ae4b9c5a49"
      },
      "execution_count": null,
      "outputs": [
        {
          "output_type": "execute_result",
          "data": {
            "text/plain": [
              "<seaborn.axisgrid.FacetGrid at 0x7fcfd71c5ad0>"
            ]
          },
          "metadata": {},
          "execution_count": 16
        },
        {
          "output_type": "display_data",
          "data": {
            "text/plain": [
              "<Figure size 442.875x360 with 1 Axes>"
            ],
            "image/png": "[encoded data removed]"
          },
          "metadata": {
            "needs_background": "light"
          }
        }
      ]
    },
    {
      "cell_type": "code",
      "source": [
        "sns.set_palette('Set2')\n",
        "sns.barplot(x='Age Group', y= 'Female', data= CleanVT)\n",
        "\n",
        "plt.title(\"Female Victims according to their Age \")\n",
        "sns.despine()"
      ],
      "metadata": {
        "colab": {
          "base_uri": "https://localhost:8080/",
          "height": 295
        },
        "id": "hRAfzCzG7qMR",
        "outputId": "d352de89-28bb-494f-9600-47df0139e558"
      },
      "execution_count": 126,
      "outputs": [
        {
          "output_type": "display_data",
          "data": {
            "text/plain": [
              "<Figure size 432x288 with 1 Axes>"
            ],
            "image/png": "[encoded data removed]"
          },
          "metadata": {
            "needs_background": "light"
          }
        }
      ]
    },
    {
      "cell_type": "code",
      "source": [
        "sns.set_palette('Set2')\n",
        "sns.barplot(x='Age Group', y= 'Male', data= CleanVT)\n",
        "\n",
        "plt.title(\"Male Victims according to their Age \")\n",
        "sns.despine()"
      ],
      "metadata": {
        "colab": {
          "base_uri": "https://localhost:8080/",
          "height": 295
        },
        "id": "Y5vtccx5_m9T",
        "outputId": "ec13243e-8af8-48cc-cdcf-0dbcd841deff"
      },
      "execution_count": 131,
      "outputs": [
        {
          "output_type": "display_data",
          "data": {
            "text/plain": [
              "<Figure size 432x288 with 1 Axes>"
            ],
            "image/png": "[encoded data removed]"
          },
          "metadata": {
            "needs_background": "light"
          }
        }
      ]
    },
    {
      "cell_type": "code",
      "source": [
        "#dataset for Purpose of trafficking"
      ],
      "metadata": {
        "id": "5UXzZzgpMJeu"
      },
      "execution_count": null,
      "outputs": []
    },
    {
      "cell_type": "code",
      "source": [
        "data = '/content/ITBA-3205_ImpactClimateChange/Human Trafficking dataset/2019_trafficking_purpose.xlsx'\n",
        "TraffPurpose2019 = pd.read_excel(data)\n"
      ],
      "metadata": {
        "id": "5T1ZBHqaK_1J"
      },
      "execution_count": null,
      "outputs": []
    },
    {
      "cell_type": "code",
      "source": [
        "TraffPurpose2019.shape"
      ],
      "metadata": {
        "id": "3R_mrDSUL2IX",
        "colab": {
          "base_uri": "https://localhost:8080/"
        },
        "outputId": "cb742ed4-76f6-4afe-9fa4-958a72af5cd3"
      },
      "execution_count": null,
      "outputs": [
        {
          "output_type": "execute_result",
          "data": {
            "text/plain": [
              "(36, 13)"
            ]
          },
          "metadata": {},
          "execution_count": 64
        }
      ]
    },
    {
      "cell_type": "code",
      "source": [
        "TraffPurpose2019.columns"
      ],
      "metadata": {
        "colab": {
          "base_uri": "https://localhost:8080/"
        },
        "id": "YDIgh4C1MBcm",
        "outputId": "eab9c43b-de09-49f4-ed7a-217468ce99a0"
      },
      "execution_count": null,
      "outputs": [
        {
          "output_type": "execute_result",
          "data": {
            "text/plain": [
              "Index(['State/UT ', 'Forced Labour ', 'Sexual Exploitation for Prostitution ',\n",
              "       'Domestic Servitude ', 'Forced Marriage ', 'Petty Crimes ',\n",
              "       'Child Pornography ', 'Begging ', 'Drug Peddling ',\n",
              "       'Removal of Organs ', 'Other reasons ', 'Total Persons ',\n",
              "       'region type'],\n",
              "      dtype='object')"
            ]
          },
          "metadata": {},
          "execution_count": 166
        }
      ]
    },
    {
      "cell_type": "code",
      "source": [
        "TraffPurpose2019.isnull().sum()"
      ],
      "metadata": {
        "colab": {
          "base_uri": "https://localhost:8080/"
        },
        "id": "E7I0KWcyMov1",
        "outputId": "e48b1708-1a22-4b9f-a664-2076c1c699a3"
      },
      "execution_count": null,
      "outputs": [
        {
          "output_type": "execute_result",
          "data": {
            "text/plain": [
              "State/UT                                 0\n",
              "Forced Labour                            0\n",
              "Sexual Exploitation for Prostitution     0\n",
              "Domestic Servitude                       0\n",
              "Forced Marriage                          0\n",
              "Petty Crimes                             0\n",
              "Child Pornography                        0\n",
              "Begging                                  0\n",
              "Drug Peddling                            0\n",
              "Removal of Organs                        0\n",
              "Other reasons                            0\n",
              "Total Persons                            0\n",
              "region type                              0\n",
              "dtype: int64"
            ]
          },
          "metadata": {},
          "execution_count": 107
        }
      ]
    },
    {
      "cell_type": "code",
      "source": [
        "#cleaning the data and dropping the columns that have 0 values"
      ],
      "metadata": {
        "id": "jJ76OK8rNZwU"
      },
      "execution_count": null,
      "outputs": []
    },
    {
      "cell_type": "code",
      "source": [
        "df1 = TraffPurpose2019.drop(['State/UT ','Child Pornography ', 'Drug Peddling ', 'region type','Total Persons '], axis = 1)\n"
      ],
      "metadata": {
        "id": "_PRflTCBOWT-"
      },
      "execution_count": null,
      "outputs": []
    },
    {
      "cell_type": "code",
      "source": [
        "df1.info()"
      ],
      "metadata": {
        "colab": {
          "base_uri": "https://localhost:8080/"
        },
        "id": "_38NF6Zc7x5e",
        "outputId": "adc5e587-0c5f-4202-b079-a27fa5f9cdcf"
      },
      "execution_count": null,
      "outputs": [
        {
          "output_type": "stream",
          "name": "stdout",
          "text": [
            "<class 'pandas.core.frame.DataFrame'>\n",
            "RangeIndex: 36 entries, 0 to 35\n",
            "Data columns (total 8 columns):\n",
            " #   Column                                 Non-Null Count  Dtype\n",
            "---  ------                                 --------------  -----\n",
            " 0   Forced Labour                          36 non-null     int64\n",
            " 1   Sexual Exploitation for Prostitution   36 non-null     int64\n",
            " 2   Domestic Servitude                     36 non-null     int64\n",
            " 3   Forced Marriage                        36 non-null     int64\n",
            " 4   Petty Crimes                           36 non-null     int64\n",
            " 5   Begging                                36 non-null     int64\n",
            " 6   Removal of Organs                      36 non-null     int64\n",
            " 7   Other reasons                          36 non-null     int64\n",
            "dtypes: int64(8)\n",
            "memory usage: 2.4 KB\n"
          ]
        }
      ]
    },
    {
      "cell_type": "code",
      "source": [
        "df1.describe()"
      ],
      "metadata": {
        "id": "F6urO1oe7ebf"
      },
      "execution_count": null,
      "outputs": []
    },
    {
      "cell_type": "code",
      "source": [
        "df1.corr()\n",
        "sns.heatmap(df1.corr());\n"
      ],
      "metadata": {
        "colab": {
          "base_uri": "https://localhost:8080/",
          "height": 436
        },
        "id": "_mo6HQLh6ndS",
        "outputId": "fdffed3e-120c-41ba-b9fc-1efc03a6a55f"
      },
      "execution_count": null,
      "outputs": [
        {
          "output_type": "display_data",
          "data": {
            "text/plain": [
              "<Figure size 432x288 with 2 Axes>"
            ],
            "image/png": "[encoded data removed]"
          },
          "metadata": {}
        }
      ]
    },
    {
      "cell_type": "code",
      "source": [
        "sns.set_style(style=\"darkgrid\")"
      ],
      "metadata": {
        "id": "biz88mVEXyDt"
      },
      "execution_count": null,
      "outputs": []
    },
    {
      "cell_type": "code",
      "source": [
        "#Top5= TraffPurpose2019.nlargest(5,'Total Persons ')"
      ],
      "metadata": {
        "id": "vsFXI5pLTzNq"
      },
      "execution_count": null,
      "outputs": []
    },
    {
      "cell_type": "code",
      "source": [
        "#x= Top5['State/UT ']\n",
        "#y= Top5['Total Persons ']\n"
      ],
      "metadata": {
        "id": "BYRH0v2cKJis"
      },
      "execution_count": null,
      "outputs": []
    },
    {
      "cell_type": "code",
      "source": [
        "#plt.bar(x,y)\n",
        "#plt.xticks(rotation=90,fontsize=12)\n",
        "#plt.title(\"Top 5 State with the most number of victims\")\n",
        "#plt.ylabel(\"Total Persons\")\n",
        "#plt.xlabel(\"State/UT\")\n",
        "#plt.show()"
      ],
      "metadata": {
        "id": "iEjvllZ6Mg-0"
      },
      "execution_count": null,
      "outputs": []
    },
    {
      "cell_type": "code",
      "source": [
        "df3 = pd.read_csv (r'/content/ITBA-3205_ImpactClimateChange/Human Trafficking dataset/Male_and_female_victims_of_trafficking_for_sexual_exploitation_over_time.csv')\n",
        "print(df3)"
      ],
      "metadata": {
        "colab": {
          "base_uri": "https://localhost:8080/"
        },
        "id": "WPgoU0XmX7NN",
        "outputId": "ec3c6749-1126-43e2-e531-d76e5e6ce587"
      },
      "execution_count": 252,
      "outputs": [
        {
          "output_type": "stream",
          "name": "stdout",
          "text": [
            "    yearofregistration  Male  Female\n",
            "0                 2002    80      91\n",
            "1                 2003    94      81\n",
            "2                 2004     3      59\n",
            "3                 2005     0      52\n",
            "4                 2006     1      46\n",
            "5                 2007     2      52\n",
            "6                 2008     3      52\n",
            "7                 2009     4      43\n",
            "8                 2010     0      37\n",
            "9                 2011     2      36\n",
            "10                2012     3      17\n",
            "11                2013     5      27\n",
            "12                2014     7      14\n",
            "13                2015    10      72\n",
            "14                2016     8      43\n",
            "15                2017    20      71\n",
            "16                2018    45      76\n",
            "17                2019   100      51\n"
          ]
        }
      ]
    },
    {
      "cell_type": "code",
      "source": [
        "df3['yearofregistration']=pd.to_datetime(df3['yearofregistration'], format='%Y')\n",
        "df3.yearofregistration=pd.to_datetime(df3.yearofregistration,format='%Y')\n",
        "plt.figure(figsize=(20,5))\n",
        "plt.title('Male and Female victims of trafficking for sexual exploitation over time')\n",
        "plt.plot(df3.yearofregistration, df3.Male,label='Male')\n",
        "plt.plot(df3.yearofregistration, df3.Female,label= 'Female')\n",
        "print(df3.yearofregistration[1::2])\n",
        "plt.xticks(df3.yearofregistration[1::2])\n",
        "\n",
        "\n",
        "\n",
        "\n",
        "\n",
        "plt.legend()"
      ],
      "metadata": {
        "colab": {
          "base_uri": "https://localhost:8080/",
          "height": 457
        },
        "id": "eJ01IR6H2Sbs",
        "outputId": "3b48f784-255a-4164-ea3f-54a485f79723"
      },
      "execution_count": 273,
      "outputs": [
        {
          "output_type": "stream",
          "name": "stdout",
          "text": [
            "1    2003-01-01\n",
            "3    2005-01-01\n",
            "5    2007-01-01\n",
            "7    2009-01-01\n",
            "9    2011-01-01\n",
            "11   2013-01-01\n",
            "13   2015-01-01\n",
            "15   2017-01-01\n",
            "17   2019-01-01\n",
            "Name: yearofregistration, dtype: datetime64[ns]\n"
          ]
        },
        {
          "output_type": "execute_result",
          "data": {
            "text/plain": [
              "<matplotlib.legend.Legend at 0x7fcfcde33050>"
            ]
          },
          "metadata": {},
          "execution_count": 273
        },
        {
          "output_type": "display_data",
          "data": {
            "text/plain": [
              "<Figure size 1440x360 with 1 Axes>"
            ],
            "image/png": "[encoded data removed]"
          },
          "metadata": {
            "needs_background": "light"
          }
        }
      ]
    },
    {
      "cell_type": "code",
      "source": [
        "df4 = pd.read_csv (r'/content/ITBA-3205_ImpactClimateChange/Human Trafficking dataset/Male_and_female_victims_of_trafficking_for_labour_exploitation_who_are_children.csv')\n",
        "print(df4)"
      ],
      "metadata": {
        "colab": {
          "base_uri": "https://localhost:8080/"
        },
        "id": "_dzhsHHdl6Rs",
        "outputId": "81a67a36-7685-416d-928b-28985023a251"
      },
      "execution_count": 275,
      "outputs": [
        {
          "output_type": "stream",
          "name": "stdout",
          "text": [
            "    yearofregistration  Female  Male\n",
            "0                 2002      10   100\n",
            "1                 2003      27     0\n",
            "2                 2004      33    80\n",
            "3                 2005      67    99\n",
            "4                 2006      54   100\n",
            "5                 2007      51    82\n",
            "6                 2008      39    93\n",
            "7                 2009      57    61\n",
            "8                 2010      59    65\n",
            "9                 2011      37    54\n",
            "10                2012      92    96\n",
            "11                2013      44    61\n",
            "12                2014      57    73\n",
            "13                2015       8    46\n",
            "14                2016       9    49\n",
            "15                2017      10    52\n",
            "16                2018      11    24\n",
            "17                2019      29     0\n"
          ]
        }
      ]
    },
    {
      "cell_type": "code",
      "source": [
        "df4['yearofregistration']=pd.to_datetime(df3['yearofregistration'], format='%Y')\n",
        "df4.yearofregistration=pd.to_datetime(df4.yearofregistration,format='%Y')\n",
        "plt.figure(figsize=(20,5))\n",
        "plt.title('Male and Female victims of trafficking for sexual exploitation over time')\n",
        "plt.plot(df4.yearofregistration, df4.Male,label='Male')\n",
        "plt.plot(df4.yearofregistration, df4.Female,label= 'Female')\n",
        "print(df4.yearofregistration[1::2])\n",
        "plt.xticks(df4.yearofregistration[1::2])\n",
        "\n",
        "\n",
        "\n",
        "\n",
        "\n",
        "plt.legend()"
      ],
      "metadata": {
        "colab": {
          "base_uri": "https://localhost:8080/",
          "height": 457
        },
        "id": "egU7FtOAmn_d",
        "outputId": "60819f2d-5365-42f9-896a-6bf1e8e026d0"
      },
      "execution_count": 276,
      "outputs": [
        {
          "output_type": "stream",
          "name": "stdout",
          "text": [
            "1    2003-01-01\n",
            "3    2005-01-01\n",
            "5    2007-01-01\n",
            "7    2009-01-01\n",
            "9    2011-01-01\n",
            "11   2013-01-01\n",
            "13   2015-01-01\n",
            "15   2017-01-01\n",
            "17   2019-01-01\n",
            "Name: yearofregistration, dtype: datetime64[ns]\n"
          ]
        },
        {
          "output_type": "execute_result",
          "data": {
            "text/plain": [
              "<matplotlib.legend.Legend at 0x7fcfcdf13790>"
            ]
          },
          "metadata": {},
          "execution_count": 276
        },
        {
          "output_type": "display_data",
          "data": {
            "text/plain": [
              "<Figure size 1440x360 with 1 Axes>"
            ],
            "image/png": "[encoded data removed]"
          },
          "metadata": {
            "needs_background": "light"
          }
        }
      ]
    },
    {
      "cell_type": "code",
      "source": [
        "df5 = pd.read_csv (r'/content/ITBA-3205_ImpactClimateChange/Human Trafficking dataset/Means of control used on female victims.csv')\n",
        "print(df5)\n"
      ],
      "metadata": {
        "colab": {
          "base_uri": "https://localhost:8080/"
        },
        "id": "5aQ55R3Am628",
        "outputId": "2e6e27c7-2174-46e3-e8da-f7686f72f4e0"
      },
      "execution_count": 308,
      "outputs": [
        {
          "output_type": "stream",
          "name": "stdout",
          "text": [
            "              Means of control  Female\n",
            "0                 Debt bondage      18\n",
            "1               Takes earnings      30\n",
            "2   Restricts financial access       2\n",
            "3                      Threats      38\n",
            "4          Psychological abuse      44\n",
            "5               Physical abuse      35\n",
            "6                 Sexual abuse      19\n",
            "7               False promises      31\n",
            "8      Psychoactive substances      17\n",
            "9           Restricts movement      44\n",
            "10      Restricts medical care      13\n",
            "11     Excessive working hours      22\n",
            "12               Uses children       2\n",
            "13   Threat of law enforcement       9\n",
            "14       Withholds necessities      16\n",
            "15         Withholds documents      23\n",
            "16                 Other means      18\n"
          ]
        }
      ]
    },
    {
      "cell_type": "code",
      "source": [
        "df5 = df5.sort_values(['Female'], ascending=False).reset_index(drop=True)\n",
        "sns.set_palette('Set2')\n",
        "sns.barplot(x='Female', y= 'Means of control', data= df5)\n",
        "\n",
        "plt.title(\"Means of control used on female victims \")\n",
        "sns.despine()"
      ],
      "metadata": {
        "colab": {
          "base_uri": "https://localhost:8080/",
          "height": 350
        },
        "id": "idNa8W7fnafT",
        "outputId": "9130ff9f-7c00-4757-b85f-0fccb74acef9"
      },
      "execution_count": 311,
      "outputs": [
        {
          "output_type": "display_data",
          "data": {
            "text/plain": [
              "<Figure size 576x360 with 1 Axes>"
            ],
            "image/png": "[encoded data removed]"
          },
          "metadata": {
            "needs_background": "light"
          }
        }
      ]
    },
    {
      "cell_type": "code",
      "source": [
        "df6 = pd.read_csv (r'/content/ITBA-3205_ImpactClimateChange/Human Trafficking dataset/Means of control used on male victims.csv')\n",
        "print(df6)\n"
      ],
      "metadata": {
        "colab": {
          "base_uri": "https://localhost:8080/"
        },
        "id": "tC3WNS-VtsjR",
        "outputId": "41f6e95c-c154-4446-ade9-a1b0fb8e4ae0"
      },
      "execution_count": 312,
      "outputs": [
        {
          "output_type": "stream",
          "name": "stdout",
          "text": [
            "              Means of control  Male\n",
            "0                 Debt bondage    27\n",
            "1               Takes earnings    61\n",
            "2   Restricts financial access     1\n",
            "3                      Threats    50\n",
            "4          Psychological abuse    56\n",
            "5               Physical abuse    34\n",
            "6                 Sexual abuse     5\n",
            "7               False promises    62\n",
            "8      Psychoactive substances     5\n",
            "9           Restricts movement    51\n",
            "10      Restricts medical care    30\n",
            "11     Excessive working hours    54\n",
            "12               Uses children     0\n",
            "13   Threat of law enforcement    24\n",
            "14       Withholds necessities    32\n",
            "15         Withholds documents    44\n",
            "16                 Other means    11\n"
          ]
        }
      ]
    },
    {
      "cell_type": "code",
      "source": [
        "df6= df6.sort_values(['Male'], ascending=False).reset_index(drop=True)\n",
        "sns.set_palette('Set2')\n",
        "sns.barplot(x='Male', y= 'Means of control', data= df6)\n",
        "\n",
        "plt.title(\"Means of control used on male victims \")\n",
        "sns.despine()"
      ],
      "metadata": {
        "colab": {
          "base_uri": "https://localhost:8080/",
          "height": 350
        },
        "id": "MFxGkwpat3gY",
        "outputId": "c0e8e815-9367-443c-e735-786c861b0e22"
      },
      "execution_count": 313,
      "outputs": [
        {
          "output_type": "display_data",
          "data": {
            "text/plain": [
              "<Figure size 576x360 with 1 Axes>"
            ],
            "image/png": "[encoded data removed]"
          },
          "metadata": {
            "needs_background": "light"
          }
        }
      ]
    }
  ]
}